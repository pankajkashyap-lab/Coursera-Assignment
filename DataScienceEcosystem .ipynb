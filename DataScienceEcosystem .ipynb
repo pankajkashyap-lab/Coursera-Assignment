{
 "cells": [
  {
   "cell_type": "markdown",
   "id": "0c3918ef-f02d-420f-975d-03bd91523a6b",
   "metadata": {},
   "source": [
    "# Data Science Tools and Ecosystem"
   ]
  },
  {
   "cell_type": "markdown",
   "id": "43ac3cf0-b7e6-4b79-88d2-e524a8015dd4",
   "metadata": {},
   "source": [
    "### In this notebook, Data Science Tools and Ecosystem are summarized"
   ]
  },
  {
   "cell_type": "markdown",
   "id": "1ea19fdc-53a4-4eea-8929-4bbe622417f8",
   "metadata": {},
   "source": [
    "#### **Objectives**\n",
    "* List popular languages that Data Scientists use\n",
    "* List commonly used libraries used by Data Scientists\n",
    "* List open source Data Science Tools\n",
    "* List a few examples of evaluating arithmetic expressions in Python\n",
    "* Creating a Table in Markdown Cell\n"
   ]
  },
  {
   "cell_type": "markdown",
   "id": "95e67884-a0e8-4e80-a993-aef98c15d50c",
   "metadata": {},
   "source": [
    "* Some of the popular languages that Data Scientists use are:\n",
    " 1. Python\n",
    " 2. R\n",
    " 3. SQL\n",
    " 4. Julia\n",
    " 5. Scala\n",
    " 6. C++\n",
    " 7. Java\n",
    " 8. Java Script\n",
    " 9. Visual Basic"
   ]
  },
  {
   "cell_type": "markdown",
   "id": "09daad07-d0b6-4b32-9d1c-92f7794258d8",
   "metadata": {},
   "source": [
    "* Some of the commonly used libraries used by Data Scientists include:\n",
    "1. Pandas\n",
    "2. Numpy\n",
    "3. Matplotlib\n",
    "4. ggplot"
   ]
  },
  {
   "cell_type": "markdown",
   "id": "03dc119c-00ca-4780-a3d1-9ce6ea0dc9be",
   "metadata": {
    "jp-MarkdownHeadingCollapsed": true
   },
   "source": [
    "| Data Science Tools |  \n",
    "|--------------------|\n",
    "| R Studio |\n",
    "| Tensor Flow |\n",
    "| Apache Hadoop |\n",
    "\n"
   ]
  },
  {
   "cell_type": "markdown",
   "id": "0ba1ee70-d34c-41e7-b693-449fe7bb4cb8",
   "metadata": {},
   "source": [
    "### Below are a few examples of evaluating arithmetic expressions in Python\n",
    "* a = 5 + 3\n",
    "* b = 10 - 4\n",
    "* c= a/b\n"
   ]
  },
  {
   "cell_type": "code",
   "execution_count": 10,
   "id": "17da8a80-258d-4e4d-8b28-23f4ee9ba68e",
   "metadata": {},
   "outputs": [
    {
     "data": {
      "text/plain": [
       "17"
      ]
     },
     "execution_count": 10,
     "metadata": {},
     "output_type": "execute_result"
    }
   ],
   "source": [
    "#This a simple arithmetic expression to mutiply then add integers\n",
    "(3*4)+5"
   ]
  },
  {
   "cell_type": "code",
   "execution_count": 11,
   "id": "ede809da-4306-44ab-a72e-c700dab2646e",
   "metadata": {},
   "outputs": [
    {
     "data": {
      "text/plain": [
       "3.3333333333333335"
      ]
     },
     "execution_count": 11,
     "metadata": {},
     "output_type": "execute_result"
    }
   ],
   "source": [
    "#This will convert 200 minutes to hours by diving by 60\n",
    "200/60"
   ]
  },
  {
   "cell_type": "markdown",
   "id": "6cb7cdca-4ce2-430e-8293-08213961736d",
   "metadata": {},
   "source": [
    "## Author\n",
    "  Pankaj"
   ]
  },
  {
   "cell_type": "markdown",
   "id": "f3c034df-80ea-407e-a668-27e7a25d2e00",
   "metadata": {},
   "source": []
  },
  {
   "cell_type": "code",
   "execution_count": null,
   "id": "edf33fd4-fa77-4b13-aa65-db551b5c133a",
   "metadata": {},
   "outputs": [],
   "source": []
  }
 ],
 "metadata": {
  "kernelspec": {
   "display_name": "Python 3 (ipykernel)",
   "language": "python",
   "name": "python3"
  },
  "language_info": {
   "codemirror_mode": {
    "name": "ipython",
    "version": 3
   },
   "file_extension": ".py",
   "mimetype": "text/x-python",
   "name": "python",
   "nbconvert_exporter": "python",
   "pygments_lexer": "ipython3",
   "version": "3.12.9"
  }
 },
 "nbformat": 4,
 "nbformat_minor": 5
}
